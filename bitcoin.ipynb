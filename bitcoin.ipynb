{
  "nbformat": 4,
  "nbformat_minor": 0,
  "metadata": {
    "colab": {
      "provenance": []
    },
    "kernelspec": {
      "name": "python3",
      "display_name": "Python 3"
    },
    "language_info": {
      "name": "python"
    }
  },
  "cells": [
    {
      "cell_type": "code",
      "source": [
        "import hashlib\n",
        "import datetime\n"
      ],
      "metadata": {
        "id": "oGPh-RlEfFJK"
      },
      "execution_count": 5,
      "outputs": []
    },
    {
      "cell_type": "code",
      "source": [
        "class Block:\n",
        "    def __init__(self, index, timestamp, data, previous_hash):\n",
        "        self.index = index\n",
        "        self.timestamp = timestamp\n",
        "        self.data = data\n",
        "        self.previous_hash = previous_hash\n",
        "        self.hash = self.calculate_hash()\n",
        "\n",
        "    def calculate_hash(self):\n",
        "        sha = hashlib.sha256()\n",
        "        sha.update((str(self.index) + str(self.timestamp) + str(self.data) + str(self.previous_hash)).encode('utf-8'))\n",
        "        return sha.hexdigest()\n"
      ],
      "metadata": {
        "id": "dFNfwFpGfHra"
      },
      "execution_count": 6,
      "outputs": []
    },
    {
      "cell_type": "code",
      "source": [
        "class Blockchain:\n",
        "    def __init__(self):\n",
        "        self.chain = [self.create_genesis_block()]\n",
        "\n",
        "    def create_genesis_block(self):\n",
        "        return Block(0, datetime.datetime.now(), \"Genesis Block\", \"0\")\n",
        "\n",
        "    def get_latest_block(self):\n",
        "        return self.chain[-1]\n",
        "\n",
        "    def add_block(self, new_block):\n",
        "        new_block.previous_hash = self.get_latest_block().hash\n",
        "        new_block.hash = new_block.calculate_hash()\n",
        "        self.chain.append(new_block)\n"
      ],
      "metadata": {
        "id": "0h-Pt8qTfPJ5"
      },
      "execution_count": 7,
      "outputs": []
    },
    {
      "cell_type": "code",
      "source": [
        "# Create a blockchain\n",
        "blockchain = Blockchain()"
      ],
      "metadata": {
        "id": "YlNNCNJpf7eU"
      },
      "execution_count": 8,
      "outputs": []
    },
    {
      "cell_type": "code",
      "source": [
        "# Add some blocks to the blockchain\n",
        "blockchain.add_block(Block(1, datetime.datetime.now(), \"Data for Block 1\", \"\"))\n",
        "blockchain.add_block(Block(2, datetime.datetime.now(), \"Data for Block 2\", \"\"))\n",
        "blockchain.add_block(Block(3, datetime.datetime.now(), \"Data for Block 3\", \"\"))"
      ],
      "metadata": {
        "id": "jPsq9GqpgDuT"
      },
      "execution_count": 9,
      "outputs": []
    },
    {
      "cell_type": "code",
      "source": [
        "# Print out the blockchain\n",
        "for block in blockchain.chain:\n",
        "    print(\"Block Index:\", block.index)\n",
        "    print(\"Block Timestamp:\", block.timestamp)\n",
        "    print(\"Block Data:\", block.data)\n",
        "    print(\"Block Hash:\", block.hash)\n",
        "    print(\"Previous Block Hash:\", block.previous_hash)\n",
        "    print()"
      ],
      "metadata": {
        "colab": {
          "base_uri": "https://localhost:8080/"
        },
        "id": "bd9PivbfgKUi",
        "outputId": "cbe85620-cf75-48bf-d7c3-ccaa2ababcc9"
      },
      "execution_count": 10,
      "outputs": [
        {
          "output_type": "stream",
          "name": "stdout",
          "text": [
            "Block Index: 0\n",
            "Block Timestamp: 2024-04-02 06:29:40.803505\n",
            "Block Data: Genesis Block\n",
            "Block Hash: 382c64ec5c7312c5aa229d748ba5ecc6232b76f486373318f9061b0cc26768d4\n",
            "Previous Block Hash: 0\n",
            "\n",
            "Block Index: 1\n",
            "Block Timestamp: 2024-04-02 06:30:15.380397\n",
            "Block Data: Data for Block 1\n",
            "Block Hash: 8eb32a897a3ad2021c602f530f395595f6b064660c54cd97d2a8924d192e2490\n",
            "Previous Block Hash: 382c64ec5c7312c5aa229d748ba5ecc6232b76f486373318f9061b0cc26768d4\n",
            "\n",
            "Block Index: 2\n",
            "Block Timestamp: 2024-04-02 06:30:15.380516\n",
            "Block Data: Data for Block 2\n",
            "Block Hash: 7eb600d4cb8db60c8d0a717a4f558a967cd9e658b042f957f3360c078d798248\n",
            "Previous Block Hash: 8eb32a897a3ad2021c602f530f395595f6b064660c54cd97d2a8924d192e2490\n",
            "\n",
            "Block Index: 3\n",
            "Block Timestamp: 2024-04-02 06:30:15.380598\n",
            "Block Data: Data for Block 3\n",
            "Block Hash: 98e18678154e739b33af39178c84845666d96617b0b999afa425782ca86f01bd\n",
            "Previous Block Hash: 7eb600d4cb8db60c8d0a717a4f558a967cd9e658b042f957f3360c078d798248\n",
            "\n"
          ]
        }
      ]
    },
    {
      "cell_type": "code",
      "source": [
        "from google.colab import drive\n",
        "drive.mount('/content/drive')"
      ],
      "metadata": {
        "id": "5L4JD_plgRPV"
      },
      "execution_count": null,
      "outputs": []
    }
  ]
}